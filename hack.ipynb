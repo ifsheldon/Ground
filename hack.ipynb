{
 "cells": [
  {
   "cell_type": "code",
   "execution_count": 1,
   "id": "massive-tiger",
   "metadata": {
    "ExecuteTime": {
     "end_time": "2021-05-19T19:27:28.138122Z",
     "start_time": "2021-05-19T19:27:28.120836Z"
    }
   },
   "outputs": [],
   "source": [
    "%load_ext autoreload\n",
    "%autoreload 2"
   ]
  },
  {
   "cell_type": "code",
   "execution_count": 2,
   "id": "consistent-mumbai",
   "metadata": {
    "ExecuteTime": {
     "end_time": "2021-05-19T19:27:28.745062Z",
     "start_time": "2021-05-19T19:27:28.140115Z"
    }
   },
   "outputs": [],
   "source": [
    "import torch\n",
    "from torch.nn import Parameter\n",
    "from torch.optim import SGD\n",
    "from torch.optim.lr_scheduler import ExponentialLR, StepLR\n",
    "\n",
    "# model = [Parameter(torch.randn(2, 2, requires_grad=True))]\n",
    "# optimizer = SGD(model, 0.1)\n",
    "\n",
    "# scheduler1 = ExponentialLR(optimizer, gamma=0.9)\n",
    "# scheduler2 = StepLR(optimizer, step_size=5, gamma=0.1)\n",
    "\n",
    "# for epoch in range(10):\n",
    "\n",
    "#     print(epoch, scheduler2.get_last_lr()[0])\n",
    "\n",
    "#     optimizer.step()\n",
    "#     scheduler1.step()\n",
    "#     scheduler2.step()"
   ]
  },
  {
   "cell_type": "code",
   "execution_count": 3,
   "id": "cosmetic-brush",
   "metadata": {
    "ExecuteTime": {
     "end_time": "2021-05-19T19:27:28.770888Z",
     "start_time": "2021-05-19T19:27:28.748956Z"
    }
   },
   "outputs": [],
   "source": [
    "from MyFileLR import MyFileLR"
   ]
  },
  {
   "cell_type": "code",
   "execution_count": 4,
   "id": "ultimate-sessions",
   "metadata": {
    "ExecuteTime": {
     "end_time": "2021-05-19T19:27:28.797425Z",
     "start_time": "2021-05-19T19:27:28.773067Z"
    }
   },
   "outputs": [],
   "source": [
    "my_path = \"a.json\""
   ]
  },
  {
   "cell_type": "code",
   "execution_count": 5,
   "id": "comic-worst",
   "metadata": {
    "ExecuteTime": {
     "end_time": "2021-05-19T19:27:28.815775Z",
     "start_time": "2021-05-19T19:27:28.799371Z"
    }
   },
   "outputs": [],
   "source": [
    "from time import sleep"
   ]
  },
  {
   "cell_type": "code",
   "execution_count": 8,
   "id": "false-laundry",
   "metadata": {
    "ExecuteTime": {
     "end_time": "2021-05-19T19:28:07.137058Z",
     "start_time": "2021-05-19T19:28:04.644156Z"
    },
    "scrolled": true
   },
   "outputs": [
    {
     "name": "stdout",
     "output_type": "stream",
     "text": [
      "{'learning_rate': {'steps': [0, 10], 'value': {0: 1, 10: 0.8}}, 'cond': {'steps': [0, 20], 'value': {0: False, 20: True}}}\n",
      "0 1\n",
      "cond false\n",
      "{'learning_rate': {'steps': [0, 10], 'value': {0: 1, 10: 0.8}}, 'cond': {'steps': [0, 20], 'value': {0: False, 20: True}}}\n",
      "1 1\n",
      "cond false\n",
      "{'learning_rate': {'steps': [0, 10], 'value': {0: 1, 10: 0.8}}, 'cond': {'steps': [0, 20], 'value': {0: False, 20: True}}}\n",
      "2 1\n",
      "cond false\n",
      "{'learning_rate': {'steps': [0, 10], 'value': {0: 1, 10: 0.8}}, 'cond': {'steps': [0, 20], 'value': {0: False, 20: True}}}\n"
     ]
    },
    {
     "ename": "KeyboardInterrupt",
     "evalue": "",
     "output_type": "error",
     "traceback": [
      "\u001b[0;31m---------------------------------------------------------------------------\u001b[0m",
      "\u001b[0;31mKeyboardInterrupt\u001b[0m                         Traceback (most recent call last)",
      "\u001b[0;32m<ipython-input-8-ecb85917a04c>\u001b[0m in \u001b[0;36m<module>\u001b[0;34m\u001b[0m\n\u001b[1;32m     23\u001b[0m \u001b[0;31m#     scheduler2.step()\u001b[0m\u001b[0;34m\u001b[0m\u001b[0;34m\u001b[0m\u001b[0;34m\u001b[0m\u001b[0m\n\u001b[1;32m     24\u001b[0m     \u001b[0mscheduler3\u001b[0m\u001b[0;34m.\u001b[0m\u001b[0mstep\u001b[0m\u001b[0;34m(\u001b[0m\u001b[0;34m)\u001b[0m\u001b[0;34m\u001b[0m\u001b[0;34m\u001b[0m\u001b[0m\n\u001b[0;32m---> 25\u001b[0;31m     \u001b[0msleep\u001b[0m\u001b[0;34m(\u001b[0m\u001b[0;36m1\u001b[0m\u001b[0;34m)\u001b[0m\u001b[0;34m\u001b[0m\u001b[0;34m\u001b[0m\u001b[0m\n\u001b[0m",
      "\u001b[0;31mKeyboardInterrupt\u001b[0m: "
     ]
    }
   ],
   "source": [
    "model = [Parameter(torch.randn(2, 2, requires_grad=True))]\n",
    "optimizer = SGD(model, 0.1)\n",
    "\n",
    "# scheduler1 = ExponentialLR(optimizer, gamma=0.9)\n",
    "# scheduler2 = StepLR(optimizer, step_size=5, gamma=0.1)\n",
    "scheduler3 = MyFileLR(optimizer, my_path)\n",
    "\n",
    "scheduler3.cond =True\n",
    "scheduler3._update_other_var()\n",
    "\n",
    "for epoch in range(10000):\n",
    "\n",
    "#     print(epoch, scheduler3.get_last_lr()[0])\n",
    "    print(epoch, optimizer.param_groups[0][\"lr\"])\n",
    "\n",
    "    if scheduler3.cond:\n",
    "        print(\"cond true\")\n",
    "    else:\n",
    "        print(\"cond false\")\n",
    "    \n",
    "    optimizer.step()\n",
    "#     scheduler1.step()\n",
    "#     scheduler2.step()\n",
    "    scheduler3.step()\n",
    "    sleep(1)"
   ]
  },
  {
   "cell_type": "code",
   "execution_count": null,
   "id": "nonprofit-dictionary",
   "metadata": {
    "ExecuteTime": {
     "end_time": "2021-05-19T19:27:19.652313Z",
     "start_time": "2021-05-19T19:27:09.379Z"
    }
   },
   "outputs": [],
   "source": [
    "globals()[\"cond\"]"
   ]
  },
  {
   "cell_type": "code",
   "execution_count": null,
   "id": "loose-pharmaceutical",
   "metadata": {
    "ExecuteTime": {
     "end_time": "2021-05-19T19:27:19.653329Z",
     "start_time": "2021-05-19T19:27:10.672Z"
    }
   },
   "outputs": [],
   "source": [
    "cond = True"
   ]
  },
  {
   "cell_type": "code",
   "execution_count": null,
   "id": "removable-pathology",
   "metadata": {
    "ExecuteTime": {
     "end_time": "2021-05-19T19:27:19.654125Z",
     "start_time": "2021-05-19T19:27:11.042Z"
    }
   },
   "outputs": [],
   "source": [
    "locals()[\"cond\"]"
   ]
  },
  {
   "cell_type": "code",
   "execution_count": null,
   "id": "prescribed-guest",
   "metadata": {},
   "outputs": [],
   "source": []
  }
 ],
 "metadata": {
  "kernelspec": {
   "display_name": "Python [conda env:pytorch-gpu] *",
   "language": "python",
   "name": "conda-env-pytorch-gpu-py"
  },
  "language_info": {
   "codemirror_mode": {
    "name": "ipython",
    "version": 3
   },
   "file_extension": ".py",
   "mimetype": "text/x-python",
   "name": "python",
   "nbconvert_exporter": "python",
   "pygments_lexer": "ipython3",
   "version": "3.8.8"
  }
 },
 "nbformat": 4,
 "nbformat_minor": 5
}
